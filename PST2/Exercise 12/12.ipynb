{
 "cells": [
  {
   "cell_type": "code",
   "execution_count": 1,
   "id": "bcbf5fd7",
   "metadata": {},
   "outputs": [],
   "source": [
    "import numpy as np"
   ]
  },
  {
   "cell_type": "code",
   "execution_count": null,
   "id": "747fd8df",
   "metadata": {},
   "outputs": [
    {
     "name": "stdout",
     "output_type": "stream",
     "text": [
      "[[0.05 0.1  0.05 0.05]\n",
      " [0.05 0.1  0.05 0.05]\n",
      " [0.05 0.05 0.1  0.05]\n",
      " [0.05 0.05 0.1  0.05]]\n",
      "\n",
      "[[0.75 0.95 0.75 0.05]\n",
      " [0.05 0.75 0.95 0.75]\n",
      " [0.01 0.05 0.75 0.95]\n",
      " [0.01 0.01 0.05 0.75]]\n"
     ]
    }
   ],
   "source": [
    "#Read in the data\n",
    "prior_belief = np.genfromtxt(\n",
    "    'phone_prior.csv', # filename\n",
    "    delimiter=',', # csv cells are demarcated with commas\n",
    "    names=None, # There is no header information in the first row\n",
    "    dtype=np.float32 # This informs how all data should be interpreted\n",
    ")\n",
    "condi_prob = np.genfromtxt(\n",
    "    'phone_conditional.csv', # filename\n",
    "    delimiter=',', # csv cells are demarcated with commas\n",
    "    names=None, # There is no header information in the first row\n",
    "    dtype=np.float32 # This informs how all data should be interpreted\n",
    ")\n",
    "print(f\"{prior_belief}\\n\\n{condi_prob}\")"
   ]
  },
  {
   "cell_type": "markdown",
   "id": "4f0c88f7",
   "metadata": {},
   "source": [
    "Let\n",
    "\n",
    "$OBS$: An event represents the obervation of two bars of signals\n",
    "\n",
    "$L_{ab}$: An event represents the user is at the location of row a and column b\n",
    "\n",
    "$\n",
    "P(L_{ab}|OBS) = \\frac{P(OBS|L_{ab})P(L_{ab})}{P(OBS)} = \\frac{P(OBS|L_{ab})P(L_{ab})}{\\sum_{i = 1}^{4}\\sum_{j = 1}^{4}P(OBS|L_{ij})P(L_{ij})}\n",
    "$"
   ]
  },
  {
   "cell_type": "code",
   "execution_count": 8,
   "id": "dc0aba53",
   "metadata": {},
   "outputs": [
    {
     "name": "stdout",
     "output_type": "stream",
     "text": [
      "P(OBS) = 0.5040000081062317\n"
     ]
    }
   ],
   "source": [
    "# Compute P(OBS)\n",
    "p_OBS = 0\n",
    "\n",
    "for i in range(0, 4):\n",
    "    for j in range(0, 4):\n",
    "        p_OBS += prior_belief[i, j] * condi_prob[i, j]\n",
    "\n",
    "print(f\"P(OBS) = {p_OBS}\")"
   ]
  },
  {
   "cell_type": "code",
   "execution_count": 11,
   "id": "938f0d59",
   "metadata": {},
   "outputs": [
    {
     "name": "stdout",
     "output_type": "stream",
     "text": [
      "[[0.07440476 0.18849206 0.07440476 0.00496032]\n",
      " [0.00496032 0.14880952 0.09424603 0.07440476]\n",
      " [0.00099206 0.00496032 0.14880952 0.09424603]\n",
      " [0.00099206 0.00099206 0.00992064 0.07440476]]\n"
     ]
    }
   ],
   "source": [
    "# Compute P(L_{ab}|OBS)\n",
    "p = np.empty((4, 4)) # The array to store the updated probability of each location \n",
    "\n",
    "for a in range(0, 4):\n",
    "    for b in range(0, 4):\n",
    "        p[a, b] = (prior_belief[a, b] * condi_prob[a, b]) / p_OBS\n",
    "\n",
    "print(p)"
   ]
  }
 ],
 "metadata": {
  "kernelspec": {
   "display_name": "base",
   "language": "python",
   "name": "python3"
  },
  "language_info": {
   "codemirror_mode": {
    "name": "ipython",
    "version": 3
   },
   "file_extension": ".py",
   "mimetype": "text/x-python",
   "name": "python",
   "nbconvert_exporter": "python",
   "pygments_lexer": "ipython3",
   "version": "3.12.9"
  }
 },
 "nbformat": 4,
 "nbformat_minor": 5
}
