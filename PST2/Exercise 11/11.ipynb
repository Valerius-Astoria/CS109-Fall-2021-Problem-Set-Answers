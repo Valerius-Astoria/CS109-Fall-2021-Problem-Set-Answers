{
 "cells": [
  {
   "cell_type": "code",
   "execution_count": 2,
   "id": "c6fe3c52",
   "metadata": {},
   "outputs": [],
   "source": [
    "import numpy as np"
   ]
  },
  {
   "cell_type": "code",
   "execution_count": null,
   "id": "c3ef91a3",
   "metadata": {},
   "outputs": [
    {
     "name": "stdout",
     "output_type": "stream",
     "text": [
      "[[ True False  True  True False False]\n",
      " [False False  True  True  True  True]\n",
      " [ True False  True False False False]\n",
      " ...\n",
      " [ True  True False  True False False]\n",
      " [False False  True  True  True False]\n",
      " [ True False  True  True  True  True]]\n"
     ]
    }
   ],
   "source": [
    "# Read in the data\n",
    "data = np.genfromtxt(\n",
    "    'bats.csv', # filename\n",
    "    delimiter=',', # csv cells are demarcated with commas\n",
    "    names=None, # There is no header information in the first row\n",
    "    dtype=bool # This informs how all data should be interpreted\n",
    ")\n",
    "print(data)"
   ]
  },
  {
   "cell_type": "code",
   "execution_count": 9,
   "id": "a89b4fb2",
   "metadata": {},
   "outputs": [
    {
     "name": "stdout",
     "output_type": "stream",
     "text": [
      "0.30079\n"
     ]
    }
   ],
   "source": [
    "# a. What is the probability of the trait being expressed P(T)?\n",
    "num_of_trait = np.sum(data[:,5])\n",
    "size_of_data = data.shape[0]\n",
    "p_T = num_of_trait / size_of_data\n",
    "print(p_T)"
   ]
  },
  {
   "cell_type": "code",
   "execution_count": 19,
   "id": "d79e9208",
   "metadata": {},
   "outputs": [
    {
     "name": "stdout",
     "output_type": "stream",
     "text": [
      "\n",
      "P(G_1) = 0.70228\n",
      "P(G_2) = 0.30076\n",
      "P(G_3) = 0.5009\n",
      "P(G_4) = 0.80162\n",
      "P(G_5) = 0.32705\n",
      "\n"
     ]
    }
   ],
   "source": [
    "# b. For each gene i calculate and report P(G_i).\n",
    "num_of_G1 = np.sum(data[:,0])\n",
    "num_of_G2 = np.sum(data[:,1])\n",
    "num_of_G3 = np.sum(data[:,2])\n",
    "num_of_G4 = np.sum(data[:,3])\n",
    "num_of_G5 = np.sum(data[:,4])\n",
    "\n",
    "p_G1 = num_of_G1 / size_of_data\n",
    "p_G2 = num_of_G2 / size_of_data\n",
    "p_G3 = num_of_G3 / size_of_data\n",
    "p_G4 = num_of_G4 / size_of_data\n",
    "p_G5 = num_of_G5 / size_of_data\n",
    "\n",
    "print(f\"\"\"\n",
    "P(G_1) = {p_G1}\n",
    "P(G_2) = {p_G2}\n",
    "P(G_3) = {p_G3}\n",
    "P(G_4) = {p_G4}\n",
    "P(G_5) = {p_G5}\n",
    "\"\"\")"
   ]
  },
  {
   "cell_type": "code",
   "execution_count": null,
   "id": "8b8b3251",
   "metadata": {},
   "outputs": [
    {
     "name": "stdout",
     "output_type": "stream",
     "text": [
      "\n",
      "P(G_1) * P(T) = 0.2112388012\tP(G_1, T) = 0.2121\tdifference = 0.0008611988000000181\n",
      "P(G_2) * P(T) = 0.09046560040000001\tP(G_1, T) = 0.09089\tdifference = 0.0004243995999999861\n",
      "P(G_3) * P(T) = 0.150665711\tP(G_1, T) = 0.29212\tdifference = 0.14145428899999998\n",
      "P(G_4) * P(T) = 0.2411192798\tP(G_1, T) = 0.29703\tdifference = 0.055910720200000014\n",
      "P(G_5) * P(T) = 0.0983733695\tP(G_1, T) = 0.29434\tdifference = 0.1959666305\n",
      "\n"
     ]
    }
   ],
   "source": [
    "# c. \n",
    "num_of_G1_and_T = np.sum(data[:,0] & data[:,5])\n",
    "num_of_G2_and_T = np.sum(data[:,1] & data[:,5])\n",
    "num_of_G3_and_T = np.sum(data[:,2] & data[:,5])\n",
    "num_of_G4_and_T = np.sum(data[:,3] & data[:,5])\n",
    "num_of_G5_and_T = np.sum(data[:,4] & data[:,5])\n",
    "\n",
    "p_G1_and_T = num_of_G1_and_T / size_of_data\n",
    "p_G2_and_T = num_of_G2_and_T / size_of_data\n",
    "p_G3_and_T = num_of_G3_and_T / size_of_data\n",
    "p_G4_and_T = num_of_G4_and_T / size_of_data\n",
    "p_G5_and_T = num_of_G5_and_T / size_of_data\n",
    "\n",
    "print(f\"\"\"\n",
    "P(G_1) * P(T) = {p_G1 * p_T}\\tP(G_1, T) = {p_G1_and_T}\\tdifference = {np.abs(p_G1 * p_T - p_G1_and_T)} # Assummed to be independent\n",
    "P(G_2) * P(T) = {p_G2 * p_T}\\tP(G_1, T) = {p_G2_and_T}\\tdifference = {np.abs(p_G2 * p_T - p_G2_and_T)} # Assummed to be independent\n",
    "P(G_3) * P(T) = {p_G3 * p_T}\\tP(G_1, T) = {p_G3_and_T}\\tdifference = {np.abs(p_G3 * p_T - p_G3_and_T)}\n",
    "P(G_4) * P(T) = {p_G4 * p_T}\\tP(G_1, T) = {p_G4_and_T}\\tdifference = {np.abs(p_G4 * p_T - p_G4_and_T)}\n",
    "P(G_5) * P(T) = {p_G5 * p_T}\\tP(G_1, T) = {p_G5_and_T}\\tdifference = {np.abs(p_G5 * p_T - p_G5_and_T)}\n",
    "\"\"\")\n"
   ]
  },
  {
   "cell_type": "code",
   "execution_count": 26,
   "id": "2771178b",
   "metadata": {},
   "outputs": [
    {
     "name": "stdout",
     "output_type": "stream",
     "text": [
      "P(T|G_3) = 0.5831902575364344\n",
      "P(T|G_4) = 0.37053716224645095\n",
      "P(T|G_5) = 0.8999847118177648\n"
     ]
    }
   ],
   "source": [
    "# d. For each gene i that is not assumed to be independent to T, calculate P(T|G_i)\n",
    "p_T_given_G3 = p_G3_and_T / p_G3\n",
    "p_T_given_G4 = p_G4_and_T / p_G4\n",
    "p_T_given_G5 = p_G5_and_T / p_G5\n",
    "\n",
    "print(f\"P(T|G_3) = {p_T_given_G3}\")\n",
    "print(f\"P(T|G_4) = {p_T_given_G4}\")\n",
    "print(f\"P(T|G_5) = {p_T_given_G5}\")"
   ]
  },
  {
   "cell_type": "code",
   "execution_count": 27,
   "id": "4804e7b2",
   "metadata": {},
   "outputs": [],
   "source": [
    "# e. Give your best interpretation of the results from (a) to (d)\n",
    "# The result of question c shows that the trait has some dependence on gene G_3, G_4, G_5\n",
    "# The result of question d shows that when gene G_5 is expressed, the trait is very likely to exist."
   ]
  },
  {
   "cell_type": "code",
   "execution_count": 29,
   "id": "5278cc8e",
   "metadata": {},
   "outputs": [
    {
     "name": "stdout",
     "output_type": "stream",
     "text": [
      "E[K] = 2.9334\n"
     ]
    }
   ],
   "source": [
    "# f. Let K be the number of genes expressed. What is E[K]?\n",
    "E_K = np.sum(data) / size_of_data\n",
    "print(f\"E[K] = {E_K}\")"
   ]
  }
 ],
 "metadata": {
  "kernelspec": {
   "display_name": "base",
   "language": "python",
   "name": "python3"
  },
  "language_info": {
   "codemirror_mode": {
    "name": "ipython",
    "version": 3
   },
   "file_extension": ".py",
   "mimetype": "text/x-python",
   "name": "python",
   "nbconvert_exporter": "python",
   "pygments_lexer": "ipython3",
   "version": "3.12.9"
  }
 },
 "nbformat": 4,
 "nbformat_minor": 5
}
